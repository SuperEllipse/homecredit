{
 "cells": [
  {
   "cell_type": "code",
   "execution_count": 3,
   "id": "112a6487-24e2-4219-9382-b13c7284dba8",
   "metadata": {},
   "outputs": [
    {
     "name": "stdout",
     "output_type": "stream",
     "text": [
      "/home/cdsw/scripts\n"
     ]
    }
   ],
   "source": [
    "%%bash\n",
    "pwd\n",
    "# ensure that pip install pyspark==3.2.1 i.e. the SPARK version matches the pyspark version, otherwise feast apply fails with errorr \"blah blah encryption\" "
   ]
  },
  {
   "cell_type": "code",
   "execution_count": 4,
   "id": "e174099c-f5d4-4086-b0fb-58431b2f77cd",
   "metadata": {},
   "outputs": [
    {
     "name": "stderr",
     "output_type": "stream",
     "text": [
      "/home/cdsw/.local/lib/python3.7/site-packages/feast/infra/offline_stores/contrib/spark_offline_store/spark_source.py:78: RuntimeWarning: The spark data source API is an experimental feature in alpha development. This API is unstable and it could and most probably will be changed in the future.\n",
      "  RuntimeWarning,\n",
      "/home/cdsw/.local/lib/python3.7/site-packages/feast/infra/offline_stores/contrib/spark_offline_store/spark.py:125: RuntimeWarning: The spark offline store is an experimental feature in alpha development. Some functionality may still be unstable so functionality can change in the future.\n",
      "  RuntimeWarning,\n",
      "/home/cdsw/.local/lib/python3.7/site-packages/pyspark/sql/pandas/conversion.py:202: PerformanceWarning: DataFrame is highly fragmented.  This is usually the result of calling `frame.insert` many times, which has poor performance.  Consider joining all columns at once using pd.concat(axis=1) instead.  To get a de-fragmented frame, use `newframe = frame.copy()`\n",
      "  df[column_name] = series\n"
     ]
    },
    {
     "name": "stdout",
     "output_type": "stream",
     "text": [
      "----- Example features -----\n",
      "\n",
      "   sk_id_curr     event_timestamp  index  target  code_gender  flag_own_car  \\\n",
      "0      100002 2022-12-06 12:33:20      0     1.0            0             0   \n",
      "1      100003 2022-12-06 12:33:20      1     0.0            1             0   \n",
      "2      100004 2022-12-06 12:33:20      2     0.0            0             1   \n",
      "\n",
      "   flag_own_realty  cnt_children  amt_income_total  amt_credit  ...  \\\n",
      "0                0             0          202500.0    406597.5  ...   \n",
      "1                1             0          270000.0   1293502.5  ...   \n",
      "2                0             0           67500.0    135000.0  ...   \n",
      "\n",
      "   cc_name_contract_status_sent_proposal_var  \\\n",
      "0                                        NaN   \n",
      "1                                        NaN   \n",
      "2                                        NaN   \n",
      "\n",
      "   cc_name_contract_status_signed_max  cc_name_contract_status_signed_mean  \\\n",
      "0                                 NaN                                  NaN   \n",
      "1                                 NaN                                  NaN   \n",
      "2                                 NaN                                  NaN   \n",
      "\n",
      "   cc_name_contract_status_signed_sum  cc_name_contract_status_signed_var  \\\n",
      "0                                 NaN                                 NaN   \n",
      "1                                 NaN                                 NaN   \n",
      "2                                 NaN                                 NaN   \n",
      "\n",
      "   cc_name_contract_status_nan_max  cc_name_contract_status_nan_mean  \\\n",
      "0                              NaN                               NaN   \n",
      "1                              NaN                               NaN   \n",
      "2                              NaN                               NaN   \n",
      "\n",
      "   cc_name_contract_status_nan_sum  cc_name_contract_status_nan_var  cc_count  \n",
      "0                              NaN                              NaN       NaN  \n",
      "1                              NaN                              NaN       NaN  \n",
      "2                              NaN                              NaN       NaN  \n",
      "\n",
      "[3 rows x 717 columns]\n"
     ]
    }
   ],
   "source": [
    "from datetime import datetime\n",
    "import pandas as pd\n",
    "\n",
    "from feast import FeatureStore\n",
    "import os\n",
    "\n",
    "# Note: see https://docs.feast.dev/getting-started/concepts/feature-retrieval for \n",
    "# more details on how to retrieve for all entities in the offline store instead\n",
    "# feature_store = FeatureStore('/home/cdsw/homecredit_feature_repo')  # Initialize the feature store\n",
    "\n",
    "entity_df = pd.DataFrame.from_dict(\n",
    "    {\n",
    "        # entity's join key -> entity values\n",
    "        \"sk_id_curr\": [100002, 100003, 100004],\n",
    "        # \"event_timestamp\" (reserved key) -> timestamps\n",
    "        \"event_timestamp\": [\n",
    "            datetime(2022, 12, 6, 12, 33, 20),\n",
    "            datetime(2022, 12, 6, 12, 33, 20),\n",
    "            datetime(2022, 12, 6, 12, 33, 20),\n",
    "        ],\n",
    "    }\n",
    ")\n",
    "\n",
    "\n",
    "\n",
    "store = FeatureStore(repo_path='/home/cdsw/homecredit_feature_repo')\n",
    "\n",
    "training_df = store.get_historical_features(\n",
    "    entity_df=entity_df,\n",
    "\n",
    "    features=[\n",
    "        \"homecredit_appl_details_view:target\",\n",
    "        \"homecredit_appl_details_view:flag_own_car\",\n",
    "        \"homecredit_appl_details_view:flag_own_realty\",\n",
    "    ]\n",
    "    # features=[\n",
    "    #     \"driver_hourly_stats:conv_rate\",\n",
    "    #     \"driver_hourly_stats:acc_rate\",\n",
    "    #     \"driver_hourly_stats:avg_daily_trips\",\n",
    "    # ],\n",
    ").to_df()\n",
    "\n",
    "feature_service = store.get_feature_service(\"homecredit_appl_details_Fservice\")\n",
    "training_df=store.get_historical_features(features=feature_service, entity_df = entity_df).to_df()\n",
    "print(\"----- Example features -----\\n\")\n",
    "print(training_df.head())"
   ]
  },
  {
   "cell_type": "code",
   "execution_count": 2,
   "id": "dd63670b-0039-4518-9a71-8d1037355cbe",
   "metadata": {},
   "outputs": [
    {
     "ename": "AttributeError",
     "evalue": "'SparkRetrievalJob' object has no attribute 'show'",
     "output_type": "error",
     "traceback": [
      "\u001b[0;31m---------------------------------------------------------------------------\u001b[0m",
      "\u001b[0;31mAttributeError\u001b[0m                            Traceback (most recent call last)",
      "\u001b[0;32m/tmp/ipykernel_709/3223930553.py\u001b[0m in \u001b[0;36m<module>\u001b[0;34m\u001b[0m\n\u001b[0;32m----> 1\u001b[0;31m \u001b[0mtraining_df\u001b[0m\u001b[0;34m.\u001b[0m\u001b[0mshow\u001b[0m\u001b[0;34m(\u001b[0m\u001b[0;34m)\u001b[0m\u001b[0;34m\u001b[0m\u001b[0;34m\u001b[0m\u001b[0m\n\u001b[0m",
      "\u001b[0;31mAttributeError\u001b[0m: 'SparkRetrievalJob' object has no attribute 'show'"
     ]
    }
   ],
   "source": [
    "training_df.show()"
   ]
  },
  {
   "cell_type": "code",
   "execution_count": 2,
   "id": "78494895-f104-4282-8c28-caedea0880a5",
   "metadata": {},
   "outputs": [
    {
     "name": "stderr",
     "output_type": "stream",
     "text": [
      "/home/cdsw/.local/lib/python3.7/site-packages/feast/infra/offline_stores/contrib/spark_offline_store/spark_source.py:78: RuntimeWarning: The spark data source API is an experimental feature in alpha development. This API is unstable and it could and most probably will be changed in the future.\n",
      "  RuntimeWarning,\n",
      "/home/cdsw/.local/lib/python3.7/site-packages/feast/infra/offline_stores/contrib/spark_offline_store/spark.py:125: RuntimeWarning: The spark offline store is an experimental feature in alpha development. Some functionality may still be unstable so functionality can change in the future.\n",
      "  RuntimeWarning,\n"
     ]
    },
    {
     "name": "stdout",
     "output_type": "stream",
     "text": [
      "\n",
      "----- Example features -----\n",
      "\n",
      "   driver_id            event_timestamp  label_driver_reported_satisfaction  \\\n",
      "0       1001 2022-11-29 09:20:09.088035                                   1   \n",
      "1       1002 2022-11-29 09:20:09.088035                                   5   \n",
      "2       1003 2022-11-29 09:20:09.088035                                   3   \n",
      "\n",
      "   conv_rate  acc_rate  avg_daily_trips  \n",
      "0   0.193120  0.052746              802  \n",
      "1   0.965542  0.295209              967  \n",
      "2   0.551666  0.524331              388  \n"
     ]
    }
   ],
   "source": [
    "# Offline Inferencing \n",
    "\n",
    "entity_df[\"event_timestamp\"] = pd.to_datetime(\"now\", utc=True)\n",
    "training_df = store.get_historical_features(\n",
    "    entity_df=entity_df,\n",
    "    features=[\n",
    "        \"driver_hourly_stats:conv_rate\",\n",
    "        \"driver_hourly_stats:acc_rate\",\n",
    "        \"driver_hourly_stats:avg_daily_trips\",\n",
    "    ],\n",
    ").to_df()\n",
    "\n",
    "print(\"\\n----- Example features -----\\n\")\n",
    "print(training_df.head())"
   ]
  },
  {
   "cell_type": "code",
   "execution_count": null,
   "id": "2eb26434-9270-448c-9d7d-2e387db1c1b6",
   "metadata": {},
   "outputs": [],
   "source": []
  }
 ],
 "metadata": {
  "kernelspec": {
   "display_name": "Python 3 (ipykernel)",
   "language": "python",
   "name": "python3"
  },
  "language_info": {
   "codemirror_mode": {
    "name": "ipython",
    "version": 3
   },
   "file_extension": ".py",
   "mimetype": "text/x-python",
   "name": "python",
   "nbconvert_exporter": "python",
   "pygments_lexer": "ipython3",
   "version": "3.7.13"
  }
 },
 "nbformat": 4,
 "nbformat_minor": 5
}
