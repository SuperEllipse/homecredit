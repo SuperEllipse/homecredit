{
 "cells": [
  {
   "cell_type": "code",
   "execution_count": 3,
   "id": "112a6487-24e2-4219-9382-b13c7284dba8",
   "metadata": {},
   "outputs": [
    {
     "name": "stdout",
     "output_type": "stream",
     "text": [
      "/home/cdsw/scripts\n"
     ]
    }
   ],
   "source": [
    "%%bash\n",
    "pwd\n",
    "# ensure that pip install pyspark==3.2.1 i.e. the SPARK version matches the pyspark version, otherwise feast apply fails with errorr \"blah blah encryption\" "
   ]
  },
  {
   "cell_type": "code",
   "execution_count": null,
   "id": "e174099c-f5d4-4086-b0fb-58431b2f77cd",
   "metadata": {},
   "outputs": [],
   "source": [
    "from datetime import datetime\n",
    "import pandas as pd\n",
    "\n",
    "from feast import FeatureStore\n",
    "import os\n",
    "\n",
    "# Note: see https://docs.feast.dev/getting-started/concepts/feature-retrieval for \n",
    "# more details on how to retrieve for all entities in the offline store instead\n",
    "# feature_store = FeatureStore('/home/cdsw/homecredit_feature_repo')  # Initialize the feature store\n",
    "\n",
    "# entity_df = pd.DataFrame.from_dict(\n",
    "#     {\n",
    "#         # entity's join key -> entity values\n",
    "#         \"sk_id_curr\": [100002, 100003, 100004],\n",
    "#         # \"event_timestamp\" (reserved key) -> timestamps\n",
    "#         \"event_timestamp\": [\n",
    "#             datetime(2022, 12, 6, 12, 33, 20),\n",
    "#             datetime(2022, 12, 6, 12, 33, 20),\n",
    "#             datetime(2022, 12, 6, 12, 33, 20),\n",
    "#         ],\n",
    "#     }\n",
    "# )\n",
    "\n",
    "## Alternatively\n",
    "\n",
    "\n",
    "# You can also pass a SQL string to generate the above dataframe.\n",
    "# This is useful for getting all entities in a timeframe from some data source.\n",
    "\n",
    "store = FeatureStore(repo_path='/home/cdsw/homecredit_feature_repo')\n",
    "\n",
    "# entity_df = \"SELECT sk_id_curr, current_timestamp as event_timestamp FROM  homecredit_processed_data \\\n",
    "#             ORDER BY event_timestamp DESC\"\n",
    "\n",
    "\n",
    "entity_sql = f\"\"\"\n",
    "    SELECT\n",
    "        sk_id_curr,\n",
    "        event_timestamp\n",
    "    FROM {store.get_data_source(\"homecredit_processed_data\").get_table_query_string()}\n",
    "    WHERE event_timestamp < current_timestamp\n",
    "\"\"\"\n",
    "\n",
    "\n",
    "\n",
    "training_df = store.get_historical_features(\n",
    "    entity_df=entity_df,\n",
    "\n",
    "    features=[\n",
    "        \"homecredit_appl_details_view:target\",\n",
    "        # \"homecredit_appl_details_view:flag_own_car\",\n",
    "        # \"homecredit_appl_details_view:flag_own_realty\",\n",
    "    ]\n",
    ").to_df()\n",
    "\n",
    "feature_service = store.get_feature_service(\"homecredit_appl_details_Fservice\")\n",
    "training_df=store.get_historical_features(features=feature_service, entity_df = entity_df).to_df()\n",
    "print(\"----- Example features -----\\n\")\n",
    "print(training_df.head())"
   ]
  },
  {
   "cell_type": "code",
   "execution_count": 23,
   "id": "9cf2e7e2-c926-4aab-a7cb-20e1444df941",
   "metadata": {},
   "outputs": [
    {
     "name": "stdout",
     "output_type": "stream",
     "text": [
      "(356251, 717)\n"
     ]
    }
   ],
   "source": [
    "print(training_df.shape)"
   ]
  },
  {
   "cell_type": "code",
   "execution_count": null,
   "id": "dd63670b-0039-4518-9a71-8d1037355cbe",
   "metadata": {},
   "outputs": [],
   "source": [
    "training_df.show()"
   ]
  },
  {
   "cell_type": "code",
   "execution_count": 24,
   "id": "a5875abb-d289-465b-82bb-3c3e1f289f73",
   "metadata": {},
   "outputs": [
    {
     "name": "stdout",
     "output_type": "stream",
     "text": [
      "<class 'pandas.core.frame.DataFrame'>\n",
      "RangeIndex: 356251 entries, 0 to 356250\n",
      "Columns: 717 entries, sk_id_curr to cc_count\n",
      "dtypes: datetime64[ns](1), float64(715), int32(1)\n",
      "memory usage: 1.9 GB\n"
     ]
    }
   ],
   "source": [
    "training_df.info(verbose=False)"
   ]
  },
  {
   "cell_type": "code",
   "execution_count": null,
   "id": "2eb26434-9270-448c-9d7d-2e387db1c1b6",
   "metadata": {},
   "outputs": [],
   "source": []
  }
 ],
 "metadata": {
  "kernelspec": {
   "display_name": "Python 3 (ipykernel)",
   "language": "python",
   "name": "python3"
  },
  "language_info": {
   "codemirror_mode": {
    "name": "ipython",
    "version": 3
   },
   "file_extension": ".py",
   "mimetype": "text/x-python",
   "name": "python",
   "nbconvert_exporter": "python",
   "pygments_lexer": "ipython3",
   "version": "3.7.13"
  }
 },
 "nbformat": 4,
 "nbformat_minor": 5
}
