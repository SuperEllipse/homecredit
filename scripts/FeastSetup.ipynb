{
 "cells": [
  {
   "cell_type": "code",
   "execution_count": 7,
   "id": "dde8eafe-cf94-4338-8b2e-2fe1f629e194",
   "metadata": {},
   "outputs": [
    {
     "name": "stdout",
     "output_type": "stream",
     "text": [
      "/home/cdsw/scripts\n",
      "/home/cdsw\n",
      "\n",
      "Creating a new Feast repository in /home/cdsw/homecredit_feature_repo.\n",
      "\n"
     ]
    }
   ],
   "source": [
    "%%bash\n",
    "pwd\n",
    "# go to main folder\n",
    "cd $HOME\n",
    "pwd\n",
    "#lets create an empty repo\n",
    "feast init -m \"homecredit_feature_repo\"\n",
    "\n"
   ]
  },
  {
   "cell_type": "code",
   "execution_count": 10,
   "id": "442fca83-05db-4457-ba38-349ed35d785e",
   "metadata": {},
   "outputs": [
    {
     "name": "stdout",
     "output_type": "stream",
     "text": [
      "'/home/cdsw/game_grouse/example.py' -> '/home/cdsw/homecredit_feature_repo/example.py'\n",
      "'/home/cdsw/game_grouse/__init__.py' -> '/home/cdsw/homecredit_feature_repo/__init__.py'\n",
      "'/home/cdsw/game_grouse/feature_store.yaml' -> '/home/cdsw/homecredit_feature_repo/feature_store.yaml'\n",
      "001_dataingest.py\n",
      "002_modeltraining.py\n",
      "003_modelprediction.py\n",
      "1_homecredit_dataload.ipynb\n",
      "Featurestore-DataLoad_sample.ipynb\n",
      "Feature-store-dev_sample.ipynb\n",
      "Untitled.ipynb\n"
     ]
    }
   ],
   "source": [
    "%%bash\n",
    "cp -v /home/cdsw/game_grouse/*.py /home/cdsw/game_grouse/feature_store.yaml /home/cdsw/homecredit_feature_repo/\n",
    "ls"
   ]
  },
  {
   "cell_type": "code",
   "execution_count": 6,
   "id": "cd4b7a3f-0dbf-4d4d-bff4-c8cbe9bb0619",
   "metadata": {},
   "outputs": [
    {
     "name": "stdout",
     "output_type": "stream",
     "text": [
      "Usage: feast [OPTIONS] COMMAND [ARGS]...\n",
      "Try 'feast --help' for help.\n",
      "\n",
      "Error: No such option: -m\n"
     ]
    }
   ],
   "source": [
    "!feast -m \"homecredit_feature_repo\"\n"
   ]
  },
  {
   "cell_type": "code",
   "execution_count": null,
   "id": "8c4ba001-4fc8-4497-8f3d-fb12baef6c29",
   "metadata": {},
   "outputs": [],
   "source": []
  }
 ],
 "metadata": {
  "kernelspec": {
   "display_name": "Python 3 (ipykernel)",
   "language": "python",
   "name": "python3"
  },
  "language_info": {
   "codemirror_mode": {
    "name": "ipython",
    "version": 3
   },
   "file_extension": ".py",
   "mimetype": "text/x-python",
   "name": "python",
   "nbconvert_exporter": "python",
   "pygments_lexer": "ipython3",
   "version": "3.7.13"
  }
 },
 "nbformat": 4,
 "nbformat_minor": 5
}
