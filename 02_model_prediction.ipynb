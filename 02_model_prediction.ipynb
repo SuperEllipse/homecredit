{
 "cells": [
  {
   "cell_type": "code",
   "execution_count": 1,
   "id": "0ba042f7-d41f-452e-9aff-cfb0d190ebb6",
   "metadata": {},
   "outputs": [
    {
     "name": "stderr",
     "output_type": "stream",
     "text": [
      "2022-11-18 06:41:15.148443: I tensorflow/core/platform/cpu_feature_guard.cc:193] This TensorFlow binary is optimized with oneAPI Deep Neural Network Library (oneDNN) to use the following CPU instructions in performance-critical operations:  AVX2 AVX512F FMA\n",
      "To enable them in other operations, rebuild TensorFlow with the appropriate compiler flags.\n",
      "2022-11-18 06:41:15.287064: W tensorflow/stream_executor/platform/default/dso_loader.cc:64] Could not load dynamic library 'libcudart.so.11.0'; dlerror: libcudart.so.11.0: cannot open shared object file: No such file or directory\n",
      "2022-11-18 06:41:15.287094: I tensorflow/stream_executor/cuda/cudart_stub.cc:29] Ignore above cudart dlerror if you do not have a GPU set up on your machine.\n",
      "2022-11-18 06:41:15.317922: E tensorflow/stream_executor/cuda/cuda_blas.cc:2981] Unable to register cuBLAS factory: Attempting to register factory for plugin cuBLAS when one has already been registered\n",
      "2022-11-18 06:41:19.003087: W tensorflow/stream_executor/platform/default/dso_loader.cc:64] Could not load dynamic library 'libnvinfer.so.7'; dlerror: libnvinfer.so.7: cannot open shared object file: No such file or directory\n",
      "2022-11-18 06:41:19.003172: W tensorflow/stream_executor/platform/default/dso_loader.cc:64] Could not load dynamic library 'libnvinfer_plugin.so.7'; dlerror: libnvinfer_plugin.so.7: cannot open shared object file: No such file or directory\n",
      "2022-11-18 06:41:19.003181: W tensorflow/compiler/tf2tensorrt/utils/py_utils.cc:38] TF-TRT Warning: Cannot dlopen some TensorRT libraries. If you would like to use Nvidia GPU with TensorRT, please make sure the missing libraries mentioned above are installed properly.\n"
     ]
    }
   ],
   "source": [
    "import numpy as np\n",
    "import pandas as pd\n",
    "from sklearn.preprocessing import MinMaxScaler\n",
    "from keras.models import Sequential\n",
    "from keras.layers import Dense\n",
    "from keras.layers import Dropout, BatchNormalization\n",
    "from keras.layers import ELU, PReLU, LeakyReLU\n",
    "from keras.optimizers import Adam\n",
    "from sklearn.metrics import classification_report\n",
    "import joblib\n",
    "import os\n",
    "import gc\n",
    "import time\n",
    "from contextlib import contextmanager\n",
    "from lightgbm import LGBMClassifier\n",
    "from sklearn.metrics import roc_auc_score, roc_curve\n",
    "from sklearn.model_selection import KFold, StratifiedKFold\n",
    "import matplotlib.pyplot as plt\n",
    "import seaborn as sns\n",
    "import warnings\n",
    "warnings.simplefilter(action='ignore', category=FutureWarning)\n",
    "import keras as keras"
   ]
  },
  {
   "cell_type": "code",
   "execution_count": 2,
   "id": "0c5cf095-b070-4463-ad38-40b2f56825fc",
   "metadata": {},
   "outputs": [
    {
     "name": "stderr",
     "output_type": "stream",
     "text": [
      "2022-11-18 06:41:25.921354: W tensorflow/stream_executor/platform/default/dso_loader.cc:64] Could not load dynamic library 'libcuda.so.1'; dlerror: libcuda.so.1: cannot open shared object file: No such file or directory\n",
      "2022-11-18 06:41:25.921387: W tensorflow/stream_executor/cuda/cuda_driver.cc:263] failed call to cuInit: UNKNOWN ERROR (303)\n",
      "2022-11-18 06:41:25.921405: I tensorflow/stream_executor/cuda/cuda_diagnostics.cc:156] kernel driver does not appear to be running on this host (avw1vloga5hhciwb): /proc/driver/nvidia/version does not exist\n",
      "2022-11-18 06:41:25.921829: I tensorflow/core/platform/cpu_feature_guard.cc:193] This TensorFlow binary is optimized with oneAPI Deep Neural Network Library (oneDNN) to use the following CPU instructions in performance-critical operations:  AVX2 AVX512F FMA\n",
      "To enable them in other operations, rebuild TensorFlow with the appropriate compiler flags.\n"
     ]
    },
    {
     "name": "stdout",
     "output_type": "stream",
     "text": [
      "Raw shape:  (307507, 721)\n",
      "X shape:  (307507, 719)     y shape: (307507,)\n",
      "\n",
      "Preparing data...\n",
      "9610/9610 [==============================] - 16s 2ms/step\n"
     ]
    }
   ],
   "source": [
    "nn = keras.models.load_model('/home/cdsw/06_ML_MODEL/nn_model')\n",
    "\n",
    "df = pd.read_csv('/home/cdsw/02_PREDICTION_DATA/processed_data.csv')\n",
    "print(\"Raw shape: \", df.shape)\n",
    "\n",
    "y = df['TARGET']\n",
    "feats = [f for f in df.columns if f not in ['TARGET','SK_ID_CURR','SK_ID_BUREAU','SK_ID_PREV','index']]\n",
    "X = df[feats]\n",
    "print(\"X shape: \", X.shape)\n",
    "\n",
    "print(\"\\nPreparing data...\")\n",
    "\n",
    "X = X.fillna(X.mean()).clip(-1e11,1e11)\n",
    "scaler = MinMaxScaler()\n",
    "scaler.fit(X)\n",
    "\n",
    "nn_predict=nn.predict(X).flatten().clip(0,1)"
   ]
  },
  {
   "cell_type": "code",
   "execution_count": 9,
   "id": "4924749f-edc8-469f-bf40-b8d1bd80fa9a",
   "metadata": {},
   "outputs": [
    {
     "name": "stdout",
     "output_type": "stream",
     "text": [
      "Saving results...\n"
     ]
    }
   ],
   "source": [
    "print( 'Saving results...' )\n",
    "nn_predict_result = pd.DataFrame()\n",
    "nn_predict_result['SK_ID_CURR'] = df['SK_ID_CURR']\n",
    "nn_predict_result['TARGET'] = nn_predict\n",
    "\n",
    "\n",
    "nn_predict_result.to_csv('/home/cdsw/03_PREDICTION_RESULT/nn_predict_result.csv')"
   ]
  }
 ],
 "metadata": {
  "kernelspec": {
   "display_name": "Python 3 (ipykernel)",
   "language": "python",
   "name": "python3"
  },
  "language_info": {
   "codemirror_mode": {
    "name": "ipython",
    "version": 3
   },
   "file_extension": ".py",
   "mimetype": "text/x-python",
   "name": "python",
   "nbconvert_exporter": "python",
   "pygments_lexer": "ipython3",
   "version": "3.7.13"
  }
 },
 "nbformat": 4,
 "nbformat_minor": 5
}
